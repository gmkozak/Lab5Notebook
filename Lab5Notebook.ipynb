{
 "cells": [
  {
   "cell_type": "markdown",
   "metadata": {},
   "source": [
    "Normal distribution, Conﬁdence Intervals and Chi-square Tests\n",
    "\n",
    "\n",
    "Normal distribution is a continuous probability distribution  estimating the likelihood of a number to be between two  speciﬁed real numbers.\n",
    "▶ The normal distribution is deﬁned given its ﬁrst and second mode: µ (mean) & σ (standard deviation)\n",
    "\n",
    "Probability of observing x under the normal distribution can be found using the dnorm function"
   ]
  },
  {
   "cell_type": "code",
   "execution_count": null,
   "metadata": {},
   "outputs": [],
   "source": [
    "x=1\n",
    "mu=6\n",
    "s=3\n",
    "dnorm(x, mean=mu, sd=s)"
   ]
  },
  {
   "cell_type": "markdown",
   "metadata": {},
   "source": [
    "The standard normal distribution (z) is a normal  distribution with mean = 0 and standard deviation = 1\n",
    "\n",
    "A normally-distributed variable x can be converted into a  standard normally-distributed z by calculating the z-score:\n",
    "\n",
    "Z =(x-mean)/standard deviation"
   ]
  },
  {
   "cell_type": "code",
   "execution_count": null,
   "metadata": {},
   "outputs": [],
   "source": [
    "z=(x-mu)/s\n",
    "z"
   ]
  },
  {
   "cell_type": "markdown",
   "metadata": {},
   "source": [
    "Probability of Z>z"
   ]
  },
  {
   "cell_type": "code",
   "execution_count": null,
   "metadata": {},
   "outputs": [],
   "source": [
    "dnorm(z)"
   ]
  },
  {
   "cell_type": "markdown",
   "metadata": {},
   "source": [
    "Cumulative Probability: P (X ≤ x) - it returns the percentage of area under the curve from −∞ to x."
   ]
  },
  {
   "cell_type": "code",
   "execution_count": null,
   "metadata": {},
   "outputs": [],
   "source": [
    "normalCumulative=pnorm(seq(-4,4,by=0.01),0,1)\n",
    "plot(normalCumulative~seq(-4,4,by=0.01))"
   ]
  },
  {
   "cell_type": "code",
   "execution_count": null,
   "metadata": {},
   "outputs": [],
   "source": [
    "library(mosaic)\n",
    "data(KidsFeet)"
   ]
  },
  {
   "cell_type": "code",
   "execution_count": null,
   "metadata": {},
   "outputs": [],
   "source": [
    "mu<-mean(KidsFeet$length)\n",
    "mu\n",
    "s<-sd(KidsFeet$length)\n",
    "s"
   ]
  },
  {
   "cell_type": "markdown",
   "metadata": {},
   "source": [
    "What is the probability of a foot length equal to 23?"
   ]
  },
  {
   "cell_type": "code",
   "execution_count": null,
   "metadata": {},
   "outputs": [],
   "source": [
    "x=23\n",
    "dnorm(x, mu, s) "
   ]
  },
  {
   "cell_type": "code",
   "execution_count": null,
   "metadata": {},
   "outputs": [],
   "source": [
    "Probability of having foot length less than or equal to 23?"
   ]
  },
  {
   "cell_type": "code",
   "execution_count": null,
   "metadata": {},
   "outputs": [],
   "source": [
    "x=23\n",
    "pnorm(x,mu,s)"
   ]
  },
  {
   "cell_type": "markdown",
   "metadata": {},
   "source": [
    "Probability of having a foot length greater than 23"
   ]
  },
  {
   "cell_type": "code",
   "execution_count": null,
   "metadata": {},
   "outputs": [],
   "source": [
    "x=23\n",
    "1 - pnorm(x,mu,s)"
   ]
  },
  {
   "cell_type": "markdown",
   "metadata": {},
   "source": [
    "What is the maximum foot length of the lowest 30% of kids?"
   ]
  },
  {
   "cell_type": "code",
   "execution_count": null,
   "metadata": {},
   "outputs": [],
   "source": [
    "x=0.30\n",
    "qnorm(x,mu,s)"
   ]
  },
  {
   "cell_type": "markdown",
   "metadata": {},
   "source": [
    "n random values of x drawn from the normal distribution"
   ]
  },
  {
   "cell_type": "code",
   "execution_count": null,
   "metadata": {},
   "outputs": [],
   "source": [
    "n=100\n",
    "sample1<-rnorm(n, mean=mu, sd=s)\n",
    "histogram(sample1)"
   ]
  },
  {
   "cell_type": "markdown",
   "metadata": {},
   "source": [
    "Compare distribution of 100 samples to 1000 samples"
   ]
  },
  {
   "cell_type": "code",
   "execution_count": null,
   "metadata": {},
   "outputs": [],
   "source": [
    "n=1000\n",
    "sample2<-rnorm(n, mean=mu, sd=s)\n",
    "histogram(sample2)"
   ]
  },
  {
   "cell_type": "code",
   "execution_count": null,
   "metadata": {},
   "outputs": [],
   "source": [
    "mean(sample1)\n",
    "mean(sample2)"
   ]
  },
  {
   "cell_type": "markdown",
   "metadata": {},
   "source": [
    "One sample t-test\n",
    "Test if mean petal length is = 2 mm"
   ]
  },
  {
   "cell_type": "code",
   "execution_count": null,
   "metadata": {},
   "outputs": [],
   "source": [
    "data(iris)\n",
    "summary(iris)"
   ]
  },
  {
   "cell_type": "code",
   "execution_count": null,
   "metadata": {},
   "outputs": [],
   "source": [
    "t.test(iris$Petal.Length, mu=2, alternative = \"two.sided\")"
   ]
  },
  {
   "cell_type": "markdown",
   "metadata": {},
   "source": [
    "Test if mean Petal width is > = 1 mm"
   ]
  },
  {
   "cell_type": "code",
   "execution_count": null,
   "metadata": {},
   "outputs": [],
   "source": [
    "t.test(iris$Petal.Width, mu=1, alternative = \"greater\")"
   ]
  },
  {
   "cell_type": "markdown",
   "metadata": {},
   "source": [
    "Conﬁdence intervals (CI)\n",
    "\n",
    "CI for population with known mean µ and known standard deviation σ\n",
    "use standard normal distribution z\n",
    "CI = µ ± zlevel × σ\n",
    "\n",
    "\n",
    "CI for population with unknown mean µ =? and known standard deviation σ\n",
    "we use sample mean xbar, notion of sample number n and standard normal distribution\n",
    "CI = xbar ± zlevel * sqrt(σ)/n\n",
    "\n",
    "CI for population with unknown mean µ = ? and unknown standard deviation σ =?\n",
    "we use sample mean xbar, sample standard deviation sbar notion of sample number n and t distribution with df=n-1\n",
    "CI = xbar ± tlevel * sqrt(σ)/n\n",
    "\n",
    "There is not an R command that directly computes a  conﬁdence interval for a mean, but the t.test command does report a conﬁdence interval. Use the conf.level  argument to specify the conﬁdence level associated with  the interval.\n",
    "\n",
    "Calculate the 95% CI for foot length:"
   ]
  },
  {
   "cell_type": "code",
   "execution_count": null,
   "metadata": {},
   "outputs": [],
   "source": [
    "t.test(KidsFeet$length)"
   ]
  },
  {
   "cell_type": "markdown",
   "metadata": {},
   "source": [
    "Calculate the 90% CI for foot length "
   ]
  },
  {
   "cell_type": "code",
   "execution_count": null,
   "metadata": {},
   "outputs": [],
   "source": [
    "t.test(KidsFeet$length, conf.level=0.90)"
   ]
  },
  {
   "cell_type": "markdown",
   "metadata": {},
   "source": [
    "Remember you are testing for independence (e.g. no  diﬀerence)\n",
    "Low p-value - reject the null hypothesis; High  p-value fail to reject!"
   ]
  },
  {
   "cell_type": "code",
   "execution_count": null,
   "metadata": {},
   "outputs": [],
   "source": [
    "One sample "
   ]
  },
  {
   "cell_type": "code",
   "execution_count": null,
   "metadata": {},
   "outputs": [],
   "source": [
    "summary(KidsFeet)\n",
    "t.test(KidsFeet$length, conf.level=0.90)"
   ]
  }
 ],
 "metadata": {
  "kernelspec": {
   "display_name": "R",
   "language": "R",
   "name": "ir"
  },
  "language_info": {
   "codemirror_mode": "r",
   "file_extension": ".r",
   "mimetype": "text/x-r-source",
   "name": "R",
   "pygments_lexer": "r",
   "version": "3.5.1"
  }
 },
 "nbformat": 4,
 "nbformat_minor": 4
}
